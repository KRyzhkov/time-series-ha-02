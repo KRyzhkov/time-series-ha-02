{
  "nbformat": 4,
  "nbformat_minor": 0,
  "metadata": {
    "kernelspec": {
      "display_name": "Python 3",
      "language": "python",
      "name": "python3"
    },
    "language_info": {
      "codemirror_mode": {
        "name": "ipython",
        "version": 3
      },
      "file_extension": ".py",
      "mimetype": "text/x-python",
      "name": "python",
      "nbconvert_exporter": "python",
      "pygments_lexer": "ipython3",
      "version": "3.7.0"
    },
    "colab": {
      "name": "BI_TSA_HA_2.ipynb",
      "provenance": [],
      "collapsed_sections": [
        "mC2cIjXQzSk4"
      ],
      "toc_visible": true
    }
  },
  "cells": [
    {
      "cell_type": "markdown",
      "metadata": {
        "id": "Ko6MhPjKzSkh"
      },
      "source": [
        "## Time Series Analysis: Home Assignment 2"
      ]
    },
    {
      "cell_type": "markdown",
      "metadata": {
        "id": "Xb2ecwxgzSkm"
      },
      "source": [
        "due to **14.03.21 23:00** MSK\n"
      ]
    },
    {
      "cell_type": "markdown",
      "metadata": {
        "id": "AjWI8Jk-zSkm"
      },
      "source": [
        "Enter your name below: "
      ]
    },
    {
      "cell_type": "code",
      "metadata": {
        "id": "qNdUkIhRzSkm"
      },
      "source": [
        "name='Ryzhkov Kirill'"
      ],
      "execution_count": 360,
      "outputs": []
    },
    {
      "cell_type": "markdown",
      "metadata": {
        "id": "YjSSyqrRzSkn"
      },
      "source": [
        "### Contents"
      ]
    },
    {
      "cell_type": "markdown",
      "metadata": {
        "id": "fK1gJPoMzSkn"
      },
      "source": [
        "1. **Data preparation (6 points)**\n",
        "    0. Import functions \n",
        "    1. Data parsing(1.5 pt.)\n",
        "    2. Join datasets (1 pt.)\n",
        "    3. Dates transformation (2 pt.)\n",
        "    4. Plot time series (0.75 pt.)\n",
        "    5. Test and train split (0.75 pt.)\n",
        "    \n",
        " \n",
        "2. **ARIMA models (6 points)**\n",
        "\n",
        "    1. Stationarity (0.75 pt.) \n",
        "    2. AutoArima (1.5 pt.)\n",
        "    3. AutoSarima (1.5 pt.)\n",
        "    4. GridSearch (1 pt.)\n",
        "    5. Interval forecasts (1.25 pt.)\n",
        "\n",
        "    "
      ]
    },
    {
      "cell_type": "markdown",
      "metadata": {
        "id": "17E5yq_ozSko"
      },
      "source": [
        "## 1. Data preparation\n",
        "[back to contents](#Contents)"
      ]
    },
    {
      "cell_type": "markdown",
      "metadata": {
        "id": "2tr0LxBvzSko"
      },
      "source": [
        "### 1.0 Import functions\n",
        "[back to contents](#Contents)"
      ]
    },
    {
      "cell_type": "code",
      "metadata": {
        "id": "6tbiEHij9rOh"
      },
      "source": [
        "# !pip install sktime\r\n",
        "# !pip3 uninstall statsmodels"
      ],
      "execution_count": 361,
      "outputs": []
    },
    {
      "cell_type": "code",
      "metadata": {
        "id": "SfC1dxj3SibV"
      },
      "source": [
        "# !pip3 install git+https://github.com/statsmodels/statsmodels.git"
      ],
      "execution_count": 362,
      "outputs": []
    },
    {
      "cell_type": "code",
      "metadata": {
        "id": "6buCHD72zSko"
      },
      "source": [
        "import pandas as pd\n",
        "import numpy as np\n",
        "import pmdarima as pm\n",
        "from sktime.utils.plotting import plot_series\n",
        "from sktime.forecasting.model_selection import SlidingWindowSplitter, ForecastingGridSearchCV\n",
        "from sktime.forecasting.model_selection import temporal_train_test_split\n",
        "from sktime.forecasting.ets import AutoETS\n",
        "from sktime.forecasting.arima import AutoARIMA\n",
        "from statsmodels.tsa.stattools import adfuller\n",
        "from statsmodels.tsa.stattools import kpss\n",
        "from sktime.performance_metrics.forecasting import smape_loss"
      ],
      "execution_count": 363,
      "outputs": []
    },
    {
      "cell_type": "code",
      "metadata": {
        "id": "dzi7pZeH7ezD"
      },
      "source": [
        "import matplotlib.pyplot as plt \r\n",
        "from statsmodels.tsa.stattools import adfuller\r\n",
        "from statsmodels.tsa.stattools import kpss"
      ],
      "execution_count": 364,
      "outputs": []
    },
    {
      "cell_type": "markdown",
      "metadata": {
        "id": "rHy1Oid_zSko"
      },
      "source": [
        "### 1.1 Data parsing (1.5 pt.)\n",
        "[back to contents](#Contents)"
      ]
    },
    {
      "cell_type": "markdown",
      "metadata": {
        "id": "pYwRQTXdzSkp"
      },
      "source": [
        "You need to parse quarterly sales data for Amazon. \n",
        "\n",
        "```dfs=pd.read_html('https://ycharts.com/companies/AMZN/revenues')```\n",
        "\n",
        "```read_html``` reads HTML tables.  \n"
      ]
    },
    {
      "cell_type": "code",
      "metadata": {
        "id": "RS2HY1VFzSkp"
      },
      "source": [
        "# code here (0.25 pt.)\n",
        "dfs = pd.read_html('https://ycharts.com/companies/AMZN/revenues')"
      ],
      "execution_count": 365,
      "outputs": []
    },
    {
      "cell_type": "markdown",
      "metadata": {
        "id": "X23Q0KT9zSkp"
      },
      "source": [
        "How many tables have been read by ```read_html```?\n",
        "\n",
        "To answer this question find the length of the list dfs: ```len(dfs)```"
      ]
    },
    {
      "cell_type": "code",
      "metadata": {
        "colab": {
          "base_uri": "https://localhost:8080/"
        },
        "id": "hy0Zhc32zSkp",
        "outputId": "14dd69fd-3b1e-44d4-c33f-5b80c737d578"
      },
      "source": [
        "# code here (0.25 pt.)\n",
        "len(dfs)"
      ],
      "execution_count": 366,
      "outputs": [
        {
          "output_type": "execute_result",
          "data": {
            "text/plain": [
              "5"
            ]
          },
          "metadata": {
            "tags": []
          },
          "execution_count": 366
        }
      ]
    },
    {
      "cell_type": "markdown",
      "metadata": {
        "id": "5MvtiOEKzSkp"
      },
      "source": [
        "Which tables from ```dfs``` will you use further?"
      ]
    },
    {
      "cell_type": "code",
      "metadata": {
        "colab": {
          "base_uri": "https://localhost:8080/"
        },
        "id": "lCaTebN-zSkq",
        "outputId": "77333d38-09ab-4771-f7df-80f3d0dc2e19"
      },
      "source": [
        "# code here (0.5 pt.)\n",
        "print(dfs)\n",
        "# первые две"
      ],
      "execution_count": 367,
      "outputs": [
        {
          "output_type": "stream",
          "text": [
            "[   Data for this Date Range Unnamed: 1\n",
            "0             Dec. 31, 2020    125.56B\n",
            "1            Sept. 30, 2020     96.14B\n",
            "2             June 30, 2020     88.91B\n",
            "3            March 31, 2020     75.45B\n",
            "4             Dec. 31, 2019     87.44B\n",
            "5            Sept. 30, 2019     69.98B\n",
            "6             June 30, 2019     63.40B\n",
            "7            March 31, 2019     59.70B\n",
            "8             Dec. 31, 2018     72.38B\n",
            "9            Sept. 30, 2018     56.58B\n",
            "10            June 30, 2018     52.89B\n",
            "11           March 31, 2018     51.04B\n",
            "12            Dec. 31, 2017     60.45B\n",
            "13           Sept. 30, 2017     43.74B\n",
            "14            June 30, 2017     37.96B\n",
            "15           March 31, 2017     35.71B\n",
            "16            Dec. 31, 2016     43.74B\n",
            "17           Sept. 30, 2016     32.71B\n",
            "18            June 30, 2016     30.40B\n",
            "19           March 31, 2016     29.13B\n",
            "20            Dec. 31, 2015     35.75B\n",
            "21           Sept. 30, 2015     25.36B\n",
            "22            June 30, 2015     23.18B\n",
            "23           March 31, 2015     22.72B\n",
            "24            Dec. 31, 2014     29.33B,         Unnamed: 0 Unnamed: 1\n",
            "0   Sept. 30, 2014     20.58B\n",
            "1    June 30, 2014     19.34B\n",
            "2   March 31, 2014     19.74B\n",
            "3    Dec. 31, 2013     25.59B\n",
            "4   Sept. 30, 2013     17.09B\n",
            "5    June 30, 2013     15.70B\n",
            "6   March 31, 2013     16.07B\n",
            "7    Dec. 31, 2012     21.27B\n",
            "8   Sept. 30, 2012     13.81B\n",
            "9    June 30, 2012     12.83B\n",
            "10  March 31, 2012     13.18B\n",
            "11   Dec. 31, 2011     17.43B\n",
            "12  Sept. 30, 2011     10.88B\n",
            "13   June 30, 2011     9.913B\n",
            "14  March 31, 2011     9.857B\n",
            "15   Dec. 31, 2010     12.95B\n",
            "16  Sept. 30, 2010      7.56B\n",
            "17   June 30, 2010     6.566B\n",
            "18  March 31, 2010     7.131B\n",
            "19   Dec. 31, 2009      9.52B\n",
            "20  Sept. 30, 2009     5.449B\n",
            "21   June 30, 2009     4.651B\n",
            "22  March 31, 2009     4.889B\n",
            "23   Dec. 31, 2008     6.703B\n",
            "24  Sept. 30, 2008     4.264B,                        0       1\n",
            "0  Bed Bath & Beyond Inc  2.618B\n",
            "1               eBay Inc  2.868B\n",
            "2         Starbucks Corp  6.749B,          0        1         2\n",
            "0  Minimum   29.13B  Mar 2016\n",
            "1  Maximum  125.56B  Dec 2020\n",
            "2  Average   60.67B       NaN,                                  0        1\n",
            "0           Net Income (Quarterly)   7.222B\n",
            "1       Total Expenses (Quarterly)  118.68B\n",
            "2          EPS Diluted (Quarterly)    14.09\n",
            "3                 Enterprise Value   1.503T\n",
            "4  Gross Profit Margin (Quarterly)   22.14%\n",
            "5        Profit Margin (Quarterly)    5.75%\n",
            "6                   Earnings Yield    1.35%\n",
            "7         Operating Earnings Yield    1.45%\n",
            "8        Normalized Earnings Yield    1.352]\n"
          ],
          "name": "stdout"
        }
      ]
    },
    {
      "cell_type": "markdown",
      "metadata": {
        "id": "QGYSlTR9zSkq"
      },
      "source": [
        "Create a new dataframe for sales from 2014 to 2020\n",
        "\n",
        "```df1=dfs[0]```"
      ]
    },
    {
      "cell_type": "code",
      "metadata": {
        "colab": {
          "base_uri": "https://localhost:8080/"
        },
        "id": "LcXrJCcqzSkq",
        "outputId": "2766d3e5-a008-407f-ed94-6fd1f543db76"
      },
      "source": [
        "# code here (0.25 pt.)\n",
        "df1=dfs[0]\n",
        "print(df1)"
      ],
      "execution_count": 368,
      "outputs": [
        {
          "output_type": "stream",
          "text": [
            "   Data for this Date Range Unnamed: 1\n",
            "0             Dec. 31, 2020    125.56B\n",
            "1            Sept. 30, 2020     96.14B\n",
            "2             June 30, 2020     88.91B\n",
            "3            March 31, 2020     75.45B\n",
            "4             Dec. 31, 2019     87.44B\n",
            "5            Sept. 30, 2019     69.98B\n",
            "6             June 30, 2019     63.40B\n",
            "7            March 31, 2019     59.70B\n",
            "8             Dec. 31, 2018     72.38B\n",
            "9            Sept. 30, 2018     56.58B\n",
            "10            June 30, 2018     52.89B\n",
            "11           March 31, 2018     51.04B\n",
            "12            Dec. 31, 2017     60.45B\n",
            "13           Sept. 30, 2017     43.74B\n",
            "14            June 30, 2017     37.96B\n",
            "15           March 31, 2017     35.71B\n",
            "16            Dec. 31, 2016     43.74B\n",
            "17           Sept. 30, 2016     32.71B\n",
            "18            June 30, 2016     30.40B\n",
            "19           March 31, 2016     29.13B\n",
            "20            Dec. 31, 2015     35.75B\n",
            "21           Sept. 30, 2015     25.36B\n",
            "22            June 30, 2015     23.18B\n",
            "23           March 31, 2015     22.72B\n",
            "24            Dec. 31, 2014     29.33B\n"
          ],
          "name": "stdout"
        }
      ]
    },
    {
      "cell_type": "markdown",
      "metadata": {
        "id": "9zxAMqbkzSkq"
      },
      "source": [
        "Create a new dataframe for sales from 2008 to 2014\n",
        "\n",
        "```df2=dfs[1]```"
      ]
    },
    {
      "cell_type": "code",
      "metadata": {
        "colab": {
          "base_uri": "https://localhost:8080/"
        },
        "id": "Pv1OlS9GzSkq",
        "outputId": "c3b886ce-b1a1-4a7c-d20c-b3ca56f9bf3f"
      },
      "source": [
        "# code here (0.25 pt.)\n",
        "df2=dfs[1]\n",
        "print(df2)"
      ],
      "execution_count": 369,
      "outputs": [
        {
          "output_type": "stream",
          "text": [
            "        Unnamed: 0 Unnamed: 1\n",
            "0   Sept. 30, 2014     20.58B\n",
            "1    June 30, 2014     19.34B\n",
            "2   March 31, 2014     19.74B\n",
            "3    Dec. 31, 2013     25.59B\n",
            "4   Sept. 30, 2013     17.09B\n",
            "5    June 30, 2013     15.70B\n",
            "6   March 31, 2013     16.07B\n",
            "7    Dec. 31, 2012     21.27B\n",
            "8   Sept. 30, 2012     13.81B\n",
            "9    June 30, 2012     12.83B\n",
            "10  March 31, 2012     13.18B\n",
            "11   Dec. 31, 2011     17.43B\n",
            "12  Sept. 30, 2011     10.88B\n",
            "13   June 30, 2011     9.913B\n",
            "14  March 31, 2011     9.857B\n",
            "15   Dec. 31, 2010     12.95B\n",
            "16  Sept. 30, 2010      7.56B\n",
            "17   June 30, 2010     6.566B\n",
            "18  March 31, 2010     7.131B\n",
            "19   Dec. 31, 2009      9.52B\n",
            "20  Sept. 30, 2009     5.449B\n",
            "21   June 30, 2009     4.651B\n",
            "22  March 31, 2009     4.889B\n",
            "23   Dec. 31, 2008     6.703B\n",
            "24  Sept. 30, 2008     4.264B\n"
          ],
          "name": "stdout"
        }
      ]
    },
    {
      "cell_type": "markdown",
      "metadata": {
        "id": "aVtXj8W2zSkq"
      },
      "source": [
        "### 1.2 Join datasets (1 pt.)\n",
        "[back to contents](#Contents)"
      ]
    },
    {
      "cell_type": "markdown",
      "metadata": {
        "id": "v0uRBzgczSkr"
      },
      "source": [
        "Join two datasets ```df1, df2```:\n",
        "\n",
        "```joined_data=np.concatenate([...,...])```"
      ]
    },
    {
      "cell_type": "code",
      "metadata": {
        "colab": {
          "base_uri": "https://localhost:8080/"
        },
        "id": "jnc8V3-8zSkr",
        "outputId": "510b1c41-e283-4c57-8e51-b4903ca3a3e7"
      },
      "source": [
        "# code here (0.25 pt.)\n",
        "joined_data=np.concatenate([df1,df2])\n",
        "print(joined_data)"
      ],
      "execution_count": 370,
      "outputs": [
        {
          "output_type": "stream",
          "text": [
            "[['Dec. 31, 2020' '125.56B']\n",
            " ['Sept. 30, 2020' '96.14B']\n",
            " ['June 30, 2020' '88.91B']\n",
            " ['March 31, 2020' '75.45B']\n",
            " ['Dec. 31, 2019' '87.44B']\n",
            " ['Sept. 30, 2019' '69.98B']\n",
            " ['June 30, 2019' '63.40B']\n",
            " ['March 31, 2019' '59.70B']\n",
            " ['Dec. 31, 2018' '72.38B']\n",
            " ['Sept. 30, 2018' '56.58B']\n",
            " ['June 30, 2018' '52.89B']\n",
            " ['March 31, 2018' '51.04B']\n",
            " ['Dec. 31, 2017' '60.45B']\n",
            " ['Sept. 30, 2017' '43.74B']\n",
            " ['June 30, 2017' '37.96B']\n",
            " ['March 31, 2017' '35.71B']\n",
            " ['Dec. 31, 2016' '43.74B']\n",
            " ['Sept. 30, 2016' '32.71B']\n",
            " ['June 30, 2016' '30.40B']\n",
            " ['March 31, 2016' '29.13B']\n",
            " ['Dec. 31, 2015' '35.75B']\n",
            " ['Sept. 30, 2015' '25.36B']\n",
            " ['June 30, 2015' '23.18B']\n",
            " ['March 31, 2015' '22.72B']\n",
            " ['Dec. 31, 2014' '29.33B']\n",
            " ['Sept. 30, 2014' '20.58B']\n",
            " ['June 30, 2014' '19.34B']\n",
            " ['March 31, 2014' '19.74B']\n",
            " ['Dec. 31, 2013' '25.59B']\n",
            " ['Sept. 30, 2013' '17.09B']\n",
            " ['June 30, 2013' '15.70B']\n",
            " ['March 31, 2013' '16.07B']\n",
            " ['Dec. 31, 2012' '21.27B']\n",
            " ['Sept. 30, 2012' '13.81B']\n",
            " ['June 30, 2012' '12.83B']\n",
            " ['March 31, 2012' '13.18B']\n",
            " ['Dec. 31, 2011' '17.43B']\n",
            " ['Sept. 30, 2011' '10.88B']\n",
            " ['June 30, 2011' '9.913B']\n",
            " ['March 31, 2011' '9.857B']\n",
            " ['Dec. 31, 2010' '12.95B']\n",
            " ['Sept. 30, 2010' '7.56B']\n",
            " ['June 30, 2010' '6.566B']\n",
            " ['March 31, 2010' '7.131B']\n",
            " ['Dec. 31, 2009' '9.52B']\n",
            " ['Sept. 30, 2009' '5.449B']\n",
            " ['June 30, 2009' '4.651B']\n",
            " ['March 31, 2009' '4.889B']\n",
            " ['Dec. 31, 2008' '6.703B']\n",
            " ['Sept. 30, 2008' '4.264B']]\n"
          ],
          "name": "stdout"
        }
      ]
    },
    {
      "cell_type": "markdown",
      "metadata": {
        "id": "9hicpy4HzSkr"
      },
      "source": [
        "Change a format of ```joined_data``` to pandas dataframe:\n",
        "\n",
        "```df=pd.DataFrame(...)```"
      ]
    },
    {
      "cell_type": "code",
      "metadata": {
        "id": "VbB3JgsizSkr"
      },
      "source": [
        "# code here (0.25 pt.)\n",
        "df=pd.DataFrame(joined_data)"
      ],
      "execution_count": 371,
      "outputs": []
    },
    {
      "cell_type": "markdown",
      "metadata": {
        "id": "_MoMdJJDzSkr"
      },
      "source": [
        "Rename columns to ```'date'``` and ```'sales'```:\n",
        "\n",
        "```df.columns = ['...','...']```"
      ]
    },
    {
      "cell_type": "code",
      "metadata": {
        "colab": {
          "base_uri": "https://localhost:8080/"
        },
        "id": "rbyPOMCqzSks",
        "outputId": "e2b65efb-54b8-45b2-d49f-17057db2959f"
      },
      "source": [
        "# code here (0.25 pt.)\n",
        "df.columns = ['date','sales']\n",
        "print(df)"
      ],
      "execution_count": 372,
      "outputs": [
        {
          "output_type": "stream",
          "text": [
            "              date    sales\n",
            "0    Dec. 31, 2020  125.56B\n",
            "1   Sept. 30, 2020   96.14B\n",
            "2    June 30, 2020   88.91B\n",
            "3   March 31, 2020   75.45B\n",
            "4    Dec. 31, 2019   87.44B\n",
            "5   Sept. 30, 2019   69.98B\n",
            "6    June 30, 2019   63.40B\n",
            "7   March 31, 2019   59.70B\n",
            "8    Dec. 31, 2018   72.38B\n",
            "9   Sept. 30, 2018   56.58B\n",
            "10   June 30, 2018   52.89B\n",
            "11  March 31, 2018   51.04B\n",
            "12   Dec. 31, 2017   60.45B\n",
            "13  Sept. 30, 2017   43.74B\n",
            "14   June 30, 2017   37.96B\n",
            "15  March 31, 2017   35.71B\n",
            "16   Dec. 31, 2016   43.74B\n",
            "17  Sept. 30, 2016   32.71B\n",
            "18   June 30, 2016   30.40B\n",
            "19  March 31, 2016   29.13B\n",
            "20   Dec. 31, 2015   35.75B\n",
            "21  Sept. 30, 2015   25.36B\n",
            "22   June 30, 2015   23.18B\n",
            "23  March 31, 2015   22.72B\n",
            "24   Dec. 31, 2014   29.33B\n",
            "25  Sept. 30, 2014   20.58B\n",
            "26   June 30, 2014   19.34B\n",
            "27  March 31, 2014   19.74B\n",
            "28   Dec. 31, 2013   25.59B\n",
            "29  Sept. 30, 2013   17.09B\n",
            "30   June 30, 2013   15.70B\n",
            "31  March 31, 2013   16.07B\n",
            "32   Dec. 31, 2012   21.27B\n",
            "33  Sept. 30, 2012   13.81B\n",
            "34   June 30, 2012   12.83B\n",
            "35  March 31, 2012   13.18B\n",
            "36   Dec. 31, 2011   17.43B\n",
            "37  Sept. 30, 2011   10.88B\n",
            "38   June 30, 2011   9.913B\n",
            "39  March 31, 2011   9.857B\n",
            "40   Dec. 31, 2010   12.95B\n",
            "41  Sept. 30, 2010    7.56B\n",
            "42   June 30, 2010   6.566B\n",
            "43  March 31, 2010   7.131B\n",
            "44   Dec. 31, 2009    9.52B\n",
            "45  Sept. 30, 2009   5.449B\n",
            "46   June 30, 2009   4.651B\n",
            "47  March 31, 2009   4.889B\n",
            "48   Dec. 31, 2008   6.703B\n",
            "49  Sept. 30, 2008   4.264B\n"
          ],
          "name": "stdout"
        }
      ]
    },
    {
      "cell_type": "markdown",
      "metadata": {
        "id": "JFP44O-ozSks"
      },
      "source": [
        "Delete 'B' in each row in ``` 'sales' ``` column and transform it to float format:\n",
        "\n",
        "```df['...']=df['...'].apply(lambda x: float(x[:len(x)-1]))```\n",
        "\n",
        "lambda function ```lambda x:``` applies a function after  ```:```  to each row in ```df['...']```.\n",
        "\n",
        "```float(...)``` changes a format to float. This part of the code ```x[:len(x)-1]``` returns a string ```x``` without the last character ```'B'```. "
      ]
    },
    {
      "cell_type": "code",
      "metadata": {
        "colab": {
          "base_uri": "https://localhost:8080/"
        },
        "id": "nKu0xds9zSks",
        "outputId": "1c70fcce-ca73-47d6-d276-c449d2354998"
      },
      "source": [
        "# code here (0.25 pt.)\n",
        "df['sales']=df['sales'].apply(lambda x: float(x[:len(x)-1]))\n",
        "print(df)"
      ],
      "execution_count": 373,
      "outputs": [
        {
          "output_type": "stream",
          "text": [
            "              date    sales\n",
            "0    Dec. 31, 2020  125.560\n",
            "1   Sept. 30, 2020   96.140\n",
            "2    June 30, 2020   88.910\n",
            "3   March 31, 2020   75.450\n",
            "4    Dec. 31, 2019   87.440\n",
            "5   Sept. 30, 2019   69.980\n",
            "6    June 30, 2019   63.400\n",
            "7   March 31, 2019   59.700\n",
            "8    Dec. 31, 2018   72.380\n",
            "9   Sept. 30, 2018   56.580\n",
            "10   June 30, 2018   52.890\n",
            "11  March 31, 2018   51.040\n",
            "12   Dec. 31, 2017   60.450\n",
            "13  Sept. 30, 2017   43.740\n",
            "14   June 30, 2017   37.960\n",
            "15  March 31, 2017   35.710\n",
            "16   Dec. 31, 2016   43.740\n",
            "17  Sept. 30, 2016   32.710\n",
            "18   June 30, 2016   30.400\n",
            "19  March 31, 2016   29.130\n",
            "20   Dec. 31, 2015   35.750\n",
            "21  Sept. 30, 2015   25.360\n",
            "22   June 30, 2015   23.180\n",
            "23  March 31, 2015   22.720\n",
            "24   Dec. 31, 2014   29.330\n",
            "25  Sept. 30, 2014   20.580\n",
            "26   June 30, 2014   19.340\n",
            "27  March 31, 2014   19.740\n",
            "28   Dec. 31, 2013   25.590\n",
            "29  Sept. 30, 2013   17.090\n",
            "30   June 30, 2013   15.700\n",
            "31  March 31, 2013   16.070\n",
            "32   Dec. 31, 2012   21.270\n",
            "33  Sept. 30, 2012   13.810\n",
            "34   June 30, 2012   12.830\n",
            "35  March 31, 2012   13.180\n",
            "36   Dec. 31, 2011   17.430\n",
            "37  Sept. 30, 2011   10.880\n",
            "38   June 30, 2011    9.913\n",
            "39  March 31, 2011    9.857\n",
            "40   Dec. 31, 2010   12.950\n",
            "41  Sept. 30, 2010    7.560\n",
            "42   June 30, 2010    6.566\n",
            "43  March 31, 2010    7.131\n",
            "44   Dec. 31, 2009    9.520\n",
            "45  Sept. 30, 2009    5.449\n",
            "46   June 30, 2009    4.651\n",
            "47  March 31, 2009    4.889\n",
            "48   Dec. 31, 2008    6.703\n",
            "49  Sept. 30, 2008    4.264\n"
          ],
          "name": "stdout"
        }
      ]
    },
    {
      "cell_type": "markdown",
      "metadata": {
        "id": "VKTpQGhlzSks"
      },
      "source": [
        "### 1.3 Dates transformation (2 pt.)\n",
        "[back to contents](#Contents)"
      ]
    },
    {
      "cell_type": "markdown",
      "metadata": {
        "id": "fq1xTaL7zSks"
      },
      "source": [
        "How are dates represented in the original dataset? "
      ]
    },
    {
      "cell_type": "code",
      "metadata": {
        "colab": {
          "base_uri": "https://localhost:8080/"
        },
        "id": "1-xfZ756zSks",
        "outputId": "91e97859-0574-4189-bf61-beb5d0846c47"
      },
      "source": [
        "# code here (0.25 pt.)\n",
        "type(df['date'][1])\n",
        "print(df['date'][1])"
      ],
      "execution_count": 374,
      "outputs": [
        {
          "output_type": "stream",
          "text": [
            "Sept. 30, 2020\n"
          ],
          "name": "stdout"
        }
      ]
    },
    {
      "cell_type": "markdown",
      "metadata": {
        "id": "qQfBRWG1zSks"
      },
      "source": [
        "Change abbreviations of months to their names.\n",
        "\n",
        "Create a dictionary with keys = abbreviations and values = months' names. \n",
        "\n",
        "dict_month={'Dec.':'December','Sept.':'September','June':'June','March':'March'}\n",
        "\n",
        "\n",
        "```df['date']=df['date'].apply(lambda x: dict_month[x[0:len(x)-9]]+x[len(x)-9:len(x)])```"
      ]
    },
    {
      "cell_type": "code",
      "metadata": {
        "colab": {
          "base_uri": "https://localhost:8080/"
        },
        "id": "IPR2JFAIzSkt",
        "outputId": "e8e2275a-800a-455e-8c16-6cc13196a2ba"
      },
      "source": [
        "# code here (0.5 pt.)\n",
        "dict_month={'Dec.':'December','Sept.':'September','June':'June','March':'March'}\n",
        "df['date']=df['date'].apply(lambda x: dict_month[x[0:len(x)-9]]+x[len(x)-9:len(x)])\n",
        "print(df)"
      ],
      "execution_count": 375,
      "outputs": [
        {
          "output_type": "stream",
          "text": [
            "                  date    sales\n",
            "0    December 31, 2020  125.560\n",
            "1   September 30, 2020   96.140\n",
            "2        June 30, 2020   88.910\n",
            "3       March 31, 2020   75.450\n",
            "4    December 31, 2019   87.440\n",
            "5   September 30, 2019   69.980\n",
            "6        June 30, 2019   63.400\n",
            "7       March 31, 2019   59.700\n",
            "8    December 31, 2018   72.380\n",
            "9   September 30, 2018   56.580\n",
            "10       June 30, 2018   52.890\n",
            "11      March 31, 2018   51.040\n",
            "12   December 31, 2017   60.450\n",
            "13  September 30, 2017   43.740\n",
            "14       June 30, 2017   37.960\n",
            "15      March 31, 2017   35.710\n",
            "16   December 31, 2016   43.740\n",
            "17  September 30, 2016   32.710\n",
            "18       June 30, 2016   30.400\n",
            "19      March 31, 2016   29.130\n",
            "20   December 31, 2015   35.750\n",
            "21  September 30, 2015   25.360\n",
            "22       June 30, 2015   23.180\n",
            "23      March 31, 2015   22.720\n",
            "24   December 31, 2014   29.330\n",
            "25  September 30, 2014   20.580\n",
            "26       June 30, 2014   19.340\n",
            "27      March 31, 2014   19.740\n",
            "28   December 31, 2013   25.590\n",
            "29  September 30, 2013   17.090\n",
            "30       June 30, 2013   15.700\n",
            "31      March 31, 2013   16.070\n",
            "32   December 31, 2012   21.270\n",
            "33  September 30, 2012   13.810\n",
            "34       June 30, 2012   12.830\n",
            "35      March 31, 2012   13.180\n",
            "36   December 31, 2011   17.430\n",
            "37  September 30, 2011   10.880\n",
            "38       June 30, 2011    9.913\n",
            "39      March 31, 2011    9.857\n",
            "40   December 31, 2010   12.950\n",
            "41  September 30, 2010    7.560\n",
            "42       June 30, 2010    6.566\n",
            "43      March 31, 2010    7.131\n",
            "44   December 31, 2009    9.520\n",
            "45  September 30, 2009    5.449\n",
            "46       June 30, 2009    4.651\n",
            "47      March 31, 2009    4.889\n",
            "48   December 31, 2008    6.703\n",
            "49  September 30, 2008    4.264\n"
          ],
          "name": "stdout"
        }
      ]
    },
    {
      "cell_type": "markdown",
      "metadata": {
        "id": "cJyQsljmzSkt"
      },
      "source": [
        "Transform dates to datetime format:\n",
        "\n",
        "``` df['...']=pd.to_datetime(df['...'], format='...') ```\n",
        "\n",
        "Use the appropriatee format. For example, for ```'2020---13 : December'``` the format is ```'%Y---%d : %B'```.\n",
        "\n",
        "For ```'11, March.,2013'``` you need to use  ```'%d, %B.,%Y'```\n"
      ]
    },
    {
      "cell_type": "code",
      "metadata": {
        "colab": {
          "base_uri": "https://localhost:8080/"
        },
        "id": "oB4945fDzSkt",
        "outputId": "6cf0ddbe-a832-4709-9892-08fc31d3bfce"
      },
      "source": [
        "# code here (0.5 pt.)\n",
        "df['date']=pd.to_datetime(df['date'], format='%B %d, %Y')\n",
        "print(df)"
      ],
      "execution_count": 376,
      "outputs": [
        {
          "output_type": "stream",
          "text": [
            "         date    sales\n",
            "0  2020-12-31  125.560\n",
            "1  2020-09-30   96.140\n",
            "2  2020-06-30   88.910\n",
            "3  2020-03-31   75.450\n",
            "4  2019-12-31   87.440\n",
            "5  2019-09-30   69.980\n",
            "6  2019-06-30   63.400\n",
            "7  2019-03-31   59.700\n",
            "8  2018-12-31   72.380\n",
            "9  2018-09-30   56.580\n",
            "10 2018-06-30   52.890\n",
            "11 2018-03-31   51.040\n",
            "12 2017-12-31   60.450\n",
            "13 2017-09-30   43.740\n",
            "14 2017-06-30   37.960\n",
            "15 2017-03-31   35.710\n",
            "16 2016-12-31   43.740\n",
            "17 2016-09-30   32.710\n",
            "18 2016-06-30   30.400\n",
            "19 2016-03-31   29.130\n",
            "20 2015-12-31   35.750\n",
            "21 2015-09-30   25.360\n",
            "22 2015-06-30   23.180\n",
            "23 2015-03-31   22.720\n",
            "24 2014-12-31   29.330\n",
            "25 2014-09-30   20.580\n",
            "26 2014-06-30   19.340\n",
            "27 2014-03-31   19.740\n",
            "28 2013-12-31   25.590\n",
            "29 2013-09-30   17.090\n",
            "30 2013-06-30   15.700\n",
            "31 2013-03-31   16.070\n",
            "32 2012-12-31   21.270\n",
            "33 2012-09-30   13.810\n",
            "34 2012-06-30   12.830\n",
            "35 2012-03-31   13.180\n",
            "36 2011-12-31   17.430\n",
            "37 2011-09-30   10.880\n",
            "38 2011-06-30    9.913\n",
            "39 2011-03-31    9.857\n",
            "40 2010-12-31   12.950\n",
            "41 2010-09-30    7.560\n",
            "42 2010-06-30    6.566\n",
            "43 2010-03-31    7.131\n",
            "44 2009-12-31    9.520\n",
            "45 2009-09-30    5.449\n",
            "46 2009-06-30    4.651\n",
            "47 2009-03-31    4.889\n",
            "48 2008-12-31    6.703\n",
            "49 2008-09-30    4.264\n"
          ],
          "name": "stdout"
        }
      ]
    },
    {
      "cell_type": "markdown",
      "metadata": {
        "id": "PDqiYDrMzSkt"
      },
      "source": [
        "Change index to dates:\n",
        "\n",
        "``` df.index=.... ```"
      ]
    },
    {
      "cell_type": "code",
      "metadata": {
        "id": "tiZ3eKrOzSkt"
      },
      "source": [
        "# code here (0.1 pt.)\n",
        "df.index=df['date']"
      ],
      "execution_count": 377,
      "outputs": []
    },
    {
      "cell_type": "markdown",
      "metadata": {
        "id": "9DqCvtQ3zSkt"
      },
      "source": [
        "What is the size of the dataset?\n",
        "\n",
        "use ```.shape```"
      ]
    },
    {
      "cell_type": "code",
      "metadata": {
        "colab": {
          "base_uri": "https://localhost:8080/"
        },
        "id": "k0P-2FmnzSku",
        "outputId": "f17c03c4-802d-45c7-9051-b692ffd348ab"
      },
      "source": [
        "# code here (0.1 pt.)\n",
        "df.shape"
      ],
      "execution_count": 378,
      "outputs": [
        {
          "output_type": "execute_result",
          "data": {
            "text/plain": [
              "(50, 2)"
            ]
          },
          "metadata": {
            "tags": []
          },
          "execution_count": 378
        }
      ]
    },
    {
      "cell_type": "markdown",
      "metadata": {
        "id": "wL4nQdhuzSku"
      },
      "source": [
        "Drop columns ['date']:\n",
        "\n",
        "```df=df.drop(..., axis=1)```"
      ]
    },
    {
      "cell_type": "code",
      "metadata": {
        "colab": {
          "base_uri": "https://localhost:8080/"
        },
        "id": "DbtTAu0AzSku",
        "outputId": "93f4c3fa-be83-4ef9-916e-9b978195aab1"
      },
      "source": [
        "# code here (0.2 pt.)\n",
        "df=df.drop('date', axis=1)\n",
        "print(df)"
      ],
      "execution_count": 379,
      "outputs": [
        {
          "output_type": "stream",
          "text": [
            "              sales\n",
            "date               \n",
            "2020-12-31  125.560\n",
            "2020-09-30   96.140\n",
            "2020-06-30   88.910\n",
            "2020-03-31   75.450\n",
            "2019-12-31   87.440\n",
            "2019-09-30   69.980\n",
            "2019-06-30   63.400\n",
            "2019-03-31   59.700\n",
            "2018-12-31   72.380\n",
            "2018-09-30   56.580\n",
            "2018-06-30   52.890\n",
            "2018-03-31   51.040\n",
            "2017-12-31   60.450\n",
            "2017-09-30   43.740\n",
            "2017-06-30   37.960\n",
            "2017-03-31   35.710\n",
            "2016-12-31   43.740\n",
            "2016-09-30   32.710\n",
            "2016-06-30   30.400\n",
            "2016-03-31   29.130\n",
            "2015-12-31   35.750\n",
            "2015-09-30   25.360\n",
            "2015-06-30   23.180\n",
            "2015-03-31   22.720\n",
            "2014-12-31   29.330\n",
            "2014-09-30   20.580\n",
            "2014-06-30   19.340\n",
            "2014-03-31   19.740\n",
            "2013-12-31   25.590\n",
            "2013-09-30   17.090\n",
            "2013-06-30   15.700\n",
            "2013-03-31   16.070\n",
            "2012-12-31   21.270\n",
            "2012-09-30   13.810\n",
            "2012-06-30   12.830\n",
            "2012-03-31   13.180\n",
            "2011-12-31   17.430\n",
            "2011-09-30   10.880\n",
            "2011-06-30    9.913\n",
            "2011-03-31    9.857\n",
            "2010-12-31   12.950\n",
            "2010-09-30    7.560\n",
            "2010-06-30    6.566\n",
            "2010-03-31    7.131\n",
            "2009-12-31    9.520\n",
            "2009-09-30    5.449\n",
            "2009-06-30    4.651\n",
            "2009-03-31    4.889\n",
            "2008-12-31    6.703\n",
            "2008-09-30    4.264\n"
          ],
          "name": "stdout"
        }
      ]
    },
    {
      "cell_type": "markdown",
      "metadata": {
        "id": "j9NsE4DJzSku"
      },
      "source": [
        "What is the size of the dataset now?"
      ]
    },
    {
      "cell_type": "code",
      "metadata": {
        "colab": {
          "base_uri": "https://localhost:8080/"
        },
        "id": "iUb30pBhzSku",
        "outputId": "f008d7fc-803b-42c2-cd55-21ec74b615fc"
      },
      "source": [
        "# code here (0.1 pt.)\n",
        "df.shape"
      ],
      "execution_count": 380,
      "outputs": [
        {
          "output_type": "execute_result",
          "data": {
            "text/plain": [
              "(50, 1)"
            ]
          },
          "metadata": {
            "tags": []
          },
          "execution_count": 380
        }
      ]
    },
    {
      "cell_type": "markdown",
      "metadata": {
        "id": "4ct9m16vzSku"
      },
      "source": [
        "Change the frequency of the data to make x-labels readable:\n",
        "\n",
        "```df.index=df.index.to_period('...')```\n",
        "\n",
        "use ```'Q' ``` for quarterly data, ```'M' ``` for monthly data. "
      ]
    },
    {
      "cell_type": "code",
      "metadata": {
        "id": "Iceo_kIHzSkv"
      },
      "source": [
        "# code here (0.25 pt.)\n",
        "# df.index=df.index.to_period('M')\n",
        "# M = df.index.to_period('Q')\n",
        "df.index=df.index.to_period('Q')"
      ],
      "execution_count": 381,
      "outputs": []
    },
    {
      "cell_type": "markdown",
      "metadata": {
        "id": "9rP6nn8AzSkv"
      },
      "source": [
        "### 1.4 Plot time series (0.75 pt.)\n",
        "[back to contents](#Contents)"
      ]
    },
    {
      "cell_type": "markdown",
      "metadata": {
        "id": "3wCKjrSDzSkv"
      },
      "source": [
        "transform data frame column to series:\n",
        "\n",
        "```y=df['sales']```"
      ]
    },
    {
      "cell_type": "code",
      "metadata": {
        "id": "XZWPLFNmzSkv"
      },
      "source": [
        "# code here (0.25 pt.)\n",
        "y=df['sales']"
      ],
      "execution_count": 382,
      "outputs": []
    },
    {
      "cell_type": "markdown",
      "metadata": {
        "id": "OfND2zLgzSkv"
      },
      "source": [
        "```plot_series``` gets a series as an argument, whose dates sorted in ascending order.\n",
        "Transform your time series by changing descending order to ascending order:\n",
        "\n",
        "apply ```np.flip``` to ```y``` and name the result ```y```"
      ]
    },
    {
      "cell_type": "code",
      "metadata": {
        "colab": {
          "base_uri": "https://localhost:8080/"
        },
        "id": "SKzWdz4lzSkv",
        "outputId": "7a805a80-2be9-41c9-b02f-07970442aae0"
      },
      "source": [
        "# code here (0.25 pt.)\n",
        "y = np.flip(y,0)\n",
        "print(y)"
      ],
      "execution_count": 383,
      "outputs": [
        {
          "output_type": "stream",
          "text": [
            "date\n",
            "2008Q3      4.264\n",
            "2008Q4      6.703\n",
            "2009Q1      4.889\n",
            "2009Q2      4.651\n",
            "2009Q3      5.449\n",
            "2009Q4      9.520\n",
            "2010Q1      7.131\n",
            "2010Q2      6.566\n",
            "2010Q3      7.560\n",
            "2010Q4     12.950\n",
            "2011Q1      9.857\n",
            "2011Q2      9.913\n",
            "2011Q3     10.880\n",
            "2011Q4     17.430\n",
            "2012Q1     13.180\n",
            "2012Q2     12.830\n",
            "2012Q3     13.810\n",
            "2012Q4     21.270\n",
            "2013Q1     16.070\n",
            "2013Q2     15.700\n",
            "2013Q3     17.090\n",
            "2013Q4     25.590\n",
            "2014Q1     19.740\n",
            "2014Q2     19.340\n",
            "2014Q3     20.580\n",
            "2014Q4     29.330\n",
            "2015Q1     22.720\n",
            "2015Q2     23.180\n",
            "2015Q3     25.360\n",
            "2015Q4     35.750\n",
            "2016Q1     29.130\n",
            "2016Q2     30.400\n",
            "2016Q3     32.710\n",
            "2016Q4     43.740\n",
            "2017Q1     35.710\n",
            "2017Q2     37.960\n",
            "2017Q3     43.740\n",
            "2017Q4     60.450\n",
            "2018Q1     51.040\n",
            "2018Q2     52.890\n",
            "2018Q3     56.580\n",
            "2018Q4     72.380\n",
            "2019Q1     59.700\n",
            "2019Q2     63.400\n",
            "2019Q3     69.980\n",
            "2019Q4     87.440\n",
            "2020Q1     75.450\n",
            "2020Q2     88.910\n",
            "2020Q3     96.140\n",
            "2020Q4    125.560\n",
            "Freq: Q-DEC, Name: sales, dtype: float64\n"
          ],
          "name": "stdout"
        }
      ]
    },
    {
      "cell_type": "markdown",
      "metadata": {
        "id": "xC9ezEYZzSkv"
      },
      "source": [
        "Plot the series using ```plot_series()```"
      ]
    },
    {
      "cell_type": "code",
      "metadata": {
        "colab": {
          "base_uri": "https://localhost:8080/",
          "height": 279
        },
        "id": "FtQcItTNzSkw",
        "outputId": "5a5b9562-c4ab-4073-c74f-4d8dc7cc2c84"
      },
      "source": [
        "# code here (0.25 pt.)\n",
        "\n",
        "y.plot() \n",
        "plt.show() "
      ],
      "execution_count": 384,
      "outputs": [
        {
          "output_type": "display_data",
          "data": {
            "image/png": "[encoded data removed]",
            "text/plain": [
              "<Figure size 432x288 with 1 Axes>"
            ]
          },
          "metadata": {
            "tags": [],
            "needs_background": "light"
          }
        }
      ]
    },
    {
      "cell_type": "code",
      "metadata": {
        "colab": {
          "base_uri": "https://localhost:8080/",
          "height": 265
        },
        "id": "TOa46C-OAVqf",
        "outputId": "f0536ba6-6f4b-4b8a-9aa3-1e821fa0a90f"
      },
      "source": [
        "ax=plot_series(y)"
      ],
      "execution_count": 385,
      "outputs": [
        {
          "output_type": "display_data",
          "data": {
            "image/png": "[encoded data removed]",
            "text/plain": [
              "<Figure size 1152x288 with 1 Axes>"
            ]
          },
          "metadata": {
            "tags": [],
            "needs_background": "light"
          }
        }
      ]
    },
    {
      "cell_type": "markdown",
      "metadata": {
        "id": "N4aM3jfKzSkw"
      },
      "source": [
        "### 1.5 Split the data (0.75 pt.)\n",
        "[back to contents](#Contents)"
      ]
    },
    {
      "cell_type": "markdown",
      "metadata": {
        "id": "d9ngX25_zSkw"
      },
      "source": [
        "Split the data into train and test samples:\n",
        "\n",
        "``` temporal_train_test_split(...) ```\n",
        "\n",
        "choose ``` test_size=0.2 ```"
      ]
    },
    {
      "cell_type": "code",
      "metadata": {
        "id": "qvyEWD8CzSkw"
      },
      "source": [
        "# code here (0.5 pt.)\n",
        "y_train, y_test = temporal_train_test_split(y, test_size=0.2)"
      ],
      "execution_count": 386,
      "outputs": []
    },
    {
      "cell_type": "markdown",
      "metadata": {
        "id": "MLuPivWZzSkw"
      },
      "source": [
        "plot train and test samples using ```plot_series``` "
      ]
    },
    {
      "cell_type": "code",
      "metadata": {
        "colab": {
          "base_uri": "https://localhost:8080/",
          "height": 553
        },
        "id": "rqeBiezizSkw",
        "outputId": "07be838c-d6fb-43de-f49e-64673a145ff2"
      },
      "source": [
        "# code here (0.25 pt.)\n",
        "y_train.plot() \n",
        "plt.show() \n",
        "y_test.plot() \n",
        "plt.show() "
      ],
      "execution_count": 387,
      "outputs": [
        {
          "output_type": "display_data",
          "data": {
            "image/png": "[encoded data removed]",
            "text/plain": [
              "<Figure size 432x288 with 1 Axes>"
            ]
          },
          "metadata": {
            "tags": [],
            "needs_background": "light"
          }
        },
        {
          "output_type": "display_data",
          "data": {
            "image/png": "[encoded data removed]",
            "text/plain": [
              "<Figure size 432x288 with 1 Axes>"
            ]
          },
          "metadata": {
            "tags": [],
            "needs_background": "light"
          }
        }
      ]
    },
    {
      "cell_type": "code",
      "metadata": {
        "colab": {
          "base_uri": "https://localhost:8080/",
          "height": 265
        },
        "id": "lhZA2uQQ_5o-",
        "outputId": "93c8e4bf-0c73-4463-ea2f-3daee8fa7495"
      },
      "source": [
        "ax=plot_series(y, y_train, y_test, labels=['All','Train', 'Test'])\r\n",
        "\r\n",
        "  "
      ],
      "execution_count": 388,
      "outputs": [
        {
          "output_type": "display_data",
          "data": {
            "image/png": "[encoded data removed]",
            "text/plain": [
              "<Figure size 1152x288 with 1 Axes>"
            ]
          },
          "metadata": {
            "tags": [],
            "needs_background": "light"
          }
        }
      ]
    },
    {
      "cell_type": "markdown",
      "metadata": {
        "id": "JFZ4gxzazSkw"
      },
      "source": [
        "## 2. ARIMA models (6 pt.)\n",
        "[back to contents](#Contents)"
      ]
    },
    {
      "cell_type": "markdown",
      "metadata": {
        "id": "N7SHHRIKzSkx"
      },
      "source": [
        "### 2.1 Check stationarity (0.75 pt.)\n",
        "[back to contents](#Contents)"
      ]
    },
    {
      "cell_type": "markdown",
      "metadata": {
        "id": "sff86UX4zSkx"
      },
      "source": [
        "Check whether the time series  is stationary\n",
        "\n",
        "Use ```adfuller``` and ```kpss```"
      ]
    },
    {
      "cell_type": "code",
      "metadata": {
        "colab": {
          "base_uri": "https://localhost:8080/"
        },
        "id": "s7qTzAEIzSkx",
        "outputId": "7fffe203-e49d-4d61-cb38-7f60ad006a81"
      },
      "source": [
        "# code here (0.15 pt.)\n",
        "adfuller(y_train)[1]<0.05\n",
        "# adfuller(y_test)\n",
        "# adfuller(y)"
      ],
      "execution_count": 389,
      "outputs": [
        {
          "output_type": "execute_result",
          "data": {
            "text/plain": [
              "False"
            ]
          },
          "metadata": {
            "tags": []
          },
          "execution_count": 389
        }
      ]
    },
    {
      "cell_type": "code",
      "metadata": {
        "colab": {
          "base_uri": "https://localhost:8080/"
        },
        "id": "y2mPxrI2zSkx",
        "outputId": "32e54000-6462-4caa-a55f-9d04ceb35268"
      },
      "source": [
        "# code here (0.15 pt.)\n",
        "kpss(y_train)[1]>0.05\n",
        "\n",
        "print('so its non-stationary')"
      ],
      "execution_count": 390,
      "outputs": [
        {
          "output_type": "stream",
          "text": [
            "so its non-stationary\n"
          ],
          "name": "stdout"
        },
        {
          "output_type": "stream",
          "text": [
            "/usr/local/lib/python3.7/dist-packages/statsmodels/tsa/stattools.py:2041: FutureWarning: The behavior of using nlags=None will change in release 0.13.Currently nlags=None is the same as nlags=\"legacy\", and so a sample-size lag length is used. After the next release, the default will change to be the same as nlags=\"auto\" which uses an automatic lag length selection method. To silence this warning, either use \"auto\" or \"legacy\"\n",
            "  warnings.warn(msg, FutureWarning)\n"
          ],
          "name": "stderr"
        }
      ]
    },
    {
      "cell_type": "markdown",
      "metadata": {
        "id": "a9lvOD0ezSkx"
      },
      "source": [
        "If it is not stationary, take differences until the time series becomes stationary\n",
        "\n",
        "```np.diff(y_train)```"
      ]
    },
    {
      "cell_type": "code",
      "metadata": {
        "colab": {
          "base_uri": "https://localhost:8080/"
        },
        "id": "h-swyrDZzSkx",
        "outputId": "db0770d0-85e2-4fe7-8ed1-3011249453f1"
      },
      "source": [
        "# code here (0.15 pt.)\n",
        "adfuller(np.diff(y_train,1))[1] < 0.05"
      ],
      "execution_count": 391,
      "outputs": [
        {
          "output_type": "execute_result",
          "data": {
            "text/plain": [
              "False"
            ]
          },
          "metadata": {
            "tags": []
          },
          "execution_count": 391
        }
      ]
    },
    {
      "cell_type": "code",
      "metadata": {
        "colab": {
          "base_uri": "https://localhost:8080/"
        },
        "id": "PD16yg2xNXk6",
        "outputId": "c99abc81-c296-4a03-dc80-43a0893d7f80"
      },
      "source": [
        "adfuller(np.diff(y_train,2))[1] < 0.05"
      ],
      "execution_count": 392,
      "outputs": [
        {
          "output_type": "execute_result",
          "data": {
            "text/plain": [
              "True"
            ]
          },
          "metadata": {
            "tags": []
          },
          "execution_count": 392
        }
      ]
    },
    {
      "cell_type": "code",
      "metadata": {
        "colab": {
          "base_uri": "https://localhost:8080/"
        },
        "id": "hM3e3J9aNuid",
        "outputId": "8100b793-3146-4001-9475-989244c9c9a3"
      },
      "source": [
        "\r\n",
        "ad = adfuller(np.diff(y_train,0), autolag= 'AIC')\r\n",
        "\r\n",
        "print('p_value ', ad[1], ' non stationary as > 0.05 ')"
      ],
      "execution_count": 393,
      "outputs": [
        {
          "output_type": "stream",
          "text": [
            "p_value  0.9906643757133605  non stationary as > 0.05 \n"
          ],
          "name": "stdout"
        }
      ]
    },
    {
      "cell_type": "code",
      "metadata": {
        "colab": {
          "base_uri": "https://localhost:8080/"
        },
        "id": "f4tRA4aTzSkx",
        "outputId": "47ab88fb-8b95-4b35-fe7f-e184089ebe98"
      },
      "source": [
        "# code here (0.15 pt.)\n",
        "ad = adfuller(np.diff(y_train,2), autolag= 'AIC')\n",
        "\n",
        "print('p_value ', ad[1], 'stationary as < 0.05 ')"
      ],
      "execution_count": 394,
      "outputs": [
        {
          "output_type": "stream",
          "text": [
            "p_value  0.004415810195894061 stationary as < 0.05 \n"
          ],
          "name": "stdout"
        }
      ]
    },
    {
      "cell_type": "markdown",
      "metadata": {
        "id": "nMENTBUazSky"
      },
      "source": [
        "What is the order of integration?"
      ]
    },
    {
      "cell_type": "code",
      "metadata": {
        "colab": {
          "base_uri": "https://localhost:8080/"
        },
        "id": "ip70IcipzSky",
        "outputId": "b4641d99-6204-4cbd-d63d-2b76252226b9"
      },
      "source": [
        "# code here (0.15 pt.)\n",
        "print('so the order is 3')"
      ],
      "execution_count": 395,
      "outputs": [
        {
          "output_type": "stream",
          "text": [
            "so the order is 3\n"
          ],
          "name": "stdout"
        }
      ]
    },
    {
      "cell_type": "markdown",
      "metadata": {
        "id": "T226qBkozSky"
      },
      "source": [
        "### 2.2 Estimate AutoArima (1.5 pt.)\n",
        "[back to contents](#Contents)"
      ]
    },
    {
      "cell_type": "markdown",
      "metadata": {
        "id": "UmVhKFIIzSky"
      },
      "source": [
        "For this part use ```AutoARIMA``` from ```sktime```\n",
        "\n",
        "Estimate AutoArima and name the result ```model_AArima```:\n",
        "\n",
        "```AutoARIMA(suppress_warnings=True,start_p=2, max_p=4, start_q=2, max_q=4, d=1)```\n",
        "\n",
        "```model_AArima.fit(...)```\n"
      ]
    },
    {
      "cell_type": "code",
      "metadata": {
        "colab": {
          "base_uri": "https://localhost:8080/"
        },
        "id": "zw2hQMgCzSky",
        "outputId": "ce922d70-6810-4824-b63c-7ef1a7a260d0"
      },
      "source": [
        "# code here (0.25 pt.)\n",
        "model_AArima = AutoARIMA(suppress_warnings=True,start_p=2, max_p=4, start_q=2, max_q=4, d=1)\n",
        "\n",
        "model_AArima.fit(y_train)"
      ],
      "execution_count": 396,
      "outputs": [
        {
          "output_type": "execute_result",
          "data": {
            "text/plain": [
              "AutoARIMA(d=1, max_p=4, max_q=4, suppress_warnings=True)"
            ]
          },
          "metadata": {
            "tags": []
          },
          "execution_count": 396
        }
      ]
    },
    {
      "cell_type": "markdown",
      "metadata": {
        "id": "hOwhKvXrzSky"
      },
      "source": [
        "What specification of ```ARIMA(p,d,q)``` has been chosen as the best?\n",
        "\n",
        "```.summary()``` "
      ]
    },
    {
      "cell_type": "code",
      "metadata": {
        "scrolled": true,
        "colab": {
          "base_uri": "https://localhost:8080/",
          "height": 423
        },
        "id": "3An0l4XvzSkz",
        "outputId": "7175c14a-49e6-4194-9ff3-e8f28b30e43b"
      },
      "source": [
        "# code here (0.25 pt.)\n",
        "model_AArima.summary()"
      ],
      "execution_count": 397,
      "outputs": [
        {
          "output_type": "execute_result",
          "data": {
            "text/html": [
              "<table class=\"simpletable\">\n",
              "<caption>SARIMAX Results</caption>\n",
              "<tr>\n",
              "  <th>Dep. Variable:</th>           <td>y</td>        <th>  No. Observations:  </th>    <td>40</td>   \n",
              "</tr>\n",
              "<tr>\n",
              "  <th>Model:</th>           <td>SARIMAX(0, 1, 1)</td> <th>  Log Likelihood     </th> <td>-115.169</td>\n",
              "</tr>\n",
              "<tr>\n",
              "  <th>Date:</th>            <td>Sun, 14 Mar 2021</td> <th>  AIC                </th>  <td>236.338</td>\n",
              "</tr>\n",
              "<tr>\n",
              "  <th>Time:</th>                <td>16:03:36</td>     <th>  BIC                </th>  <td>241.328</td>\n",
              "</tr>\n",
              "<tr>\n",
              "  <th>Sample:</th>                  <td>0</td>        <th>  HQIC               </th>  <td>238.128</td>\n",
              "</tr>\n",
              "<tr>\n",
              "  <th></th>                       <td> - 40</td>      <th>                     </th>     <td> </td>   \n",
              "</tr>\n",
              "<tr>\n",
              "  <th>Covariance Type:</th>        <td>opg</td>       <th>                     </th>     <td> </td>   \n",
              "</tr>\n",
              "</table>\n",
              "<table class=\"simpletable\">\n",
              "<tr>\n",
              "      <td></td>         <th>coef</th>     <th>std err</th>      <th>z</th>      <th>P>|z|</th>  <th>[0.025</th>    <th>0.975]</th>  \n",
              "</tr>\n",
              "<tr>\n",
              "  <th>intercept</th> <td>    1.2558</td> <td>    0.569</td> <td>    2.206</td> <td> 0.027</td> <td>    0.140</td> <td>    2.372</td>\n",
              "</tr>\n",
              "<tr>\n",
              "  <th>ma.L1</th>     <td>   -0.6181</td> <td>    0.254</td> <td>   -2.437</td> <td> 0.015</td> <td>   -1.115</td> <td>   -0.121</td>\n",
              "</tr>\n",
              "<tr>\n",
              "  <th>sigma2</th>    <td>   21.2397</td> <td>    6.377</td> <td>    3.331</td> <td> 0.001</td> <td>    8.742</td> <td>   33.738</td>\n",
              "</tr>\n",
              "</table>\n",
              "<table class=\"simpletable\">\n",
              "<tr>\n",
              "  <th>Ljung-Box (L1) (Q):</th>     <td>0.00</td> <th>  Jarque-Bera (JB):  </th> <td>50.74</td>\n",
              "</tr>\n",
              "<tr>\n",
              "  <th>Prob(Q):</th>                <td>0.99</td> <th>  Prob(JB):          </th> <td>0.00</td> \n",
              "</tr>\n",
              "<tr>\n",
              "  <th>Heteroskedasticity (H):</th> <td>5.91</td> <th>  Skew:              </th> <td>1.94</td> \n",
              "</tr>\n",
              "<tr>\n",
              "  <th>Prob(H) (two-sided):</th>    <td>0.00</td> <th>  Kurtosis:          </th> <td>7.02</td> \n",
              "</tr>\n",
              "</table><br/><br/>Warnings:<br/>[1] Covariance matrix calculated using the outer product of gradients (complex-step)."
            ],
            "text/plain": [
              "<class 'statsmodels.iolib.summary.Summary'>\n",
              "\"\"\"\n",
              "                               SARIMAX Results                                \n",
              "==============================================================================\n",
              "Dep. Variable:                      y   No. Observations:                   40\n",
              "Model:               SARIMAX(0, 1, 1)   Log Likelihood                -115.169\n",
              "Date:                Sun, 14 Mar 2021   AIC                            236.338\n",
              "Time:                        16:03:36   BIC                            241.328\n",
              "Sample:                             0   HQIC                           238.128\n",
              "                                 - 40                                         \n",
              "Covariance Type:                  opg                                         \n",
              "==============================================================================\n",
              "                 coef    std err          z      P>|z|      [0.025      0.975]\n",
              "------------------------------------------------------------------------------\n",
              "intercept      1.2558      0.569      2.206      0.027       0.140       2.372\n",
              "ma.L1         -0.6181      0.254     -2.437      0.015      -1.115      -0.121\n",
              "sigma2        21.2397      6.377      3.331      0.001       8.742      33.738\n",
              "===================================================================================\n",
              "Ljung-Box (L1) (Q):                   0.00   Jarque-Bera (JB):                50.74\n",
              "Prob(Q):                              0.99   Prob(JB):                         0.00\n",
              "Heteroskedasticity (H):               5.91   Skew:                             1.94\n",
              "Prob(H) (two-sided):                  0.00   Kurtosis:                         7.02\n",
              "===================================================================================\n",
              "\n",
              "Warnings:\n",
              "[1] Covariance matrix calculated using the outer product of gradients (complex-step).\n",
              "\"\"\""
            ]
          },
          "metadata": {
            "tags": []
          },
          "execution_count": 397
        }
      ]
    },
    {
      "cell_type": "code",
      "metadata": {
        "colab": {
          "base_uri": "https://localhost:8080/"
        },
        "id": "l7DCbZNrzSkz",
        "outputId": "9f838852-e4f1-4370-89eb-c815be8cb41f"
      },
      "source": [
        "# code here (0.5 pt.)\n",
        "print('ARIMA(0,1,1)')"
      ],
      "execution_count": 398,
      "outputs": [
        {
          "output_type": "stream",
          "text": [
            "ARIMA(0,1,1)\n"
          ],
          "name": "stdout"
        }
      ]
    },
    {
      "cell_type": "markdown",
      "metadata": {
        "id": "CNQUziGHzSk0"
      },
      "source": [
        "Make predictions for ```fh=np.arange(len(...)) + 1``` \n",
        "\n",
        "```model_AArima.predict(fh=...)```"
      ]
    },
    {
      "cell_type": "code",
      "metadata": {
        "id": "KMFja52vzSk0"
      },
      "source": [
        "# code here (0.25 pt.)\n",
        "y_pred = model_AArima.predict(fh=np.arange(len(y_test)) + 1)"
      ],
      "execution_count": 399,
      "outputs": []
    },
    {
      "cell_type": "markdown",
      "metadata": {
        "id": "ApdhjjJ-zSk1"
      },
      "source": [
        "Plot ```y_train, y_test, y_pred_AArima``` using ```plot_series(...)```and calculate SMAPE forecast quality metric:```smape_loss(...)```"
      ]
    },
    {
      "cell_type": "code",
      "metadata": {
        "colab": {
          "base_uri": "https://localhost:8080/",
          "height": 299
        },
        "id": "5G8xG_XmzSk1",
        "outputId": "ce79c7eb-7698-48ca-c575-7d71373f3d59"
      },
      "source": [
        "# code here (0.25 pt.)\n",
        "plot_series(y_train, y_test, y_pred, labels=['train', 'test','pred'])\n",
        "# smape_loss(y_test,y_pred)"
      ],
      "execution_count": 400,
      "outputs": [
        {
          "output_type": "execute_result",
          "data": {
            "text/plain": [
              "(<Figure size 1152x288 with 1 Axes>,\n",
              " <matplotlib.axes._subplots.AxesSubplot at 0x7f2ec37d8a50>)"
            ]
          },
          "metadata": {
            "tags": []
          },
          "execution_count": 400
        },
        {
          "output_type": "display_data",
          "data": {
            "image/png": "[encoded data removed]",
            "text/plain": [
              "<Figure size 1152x288 with 1 Axes>"
            ]
          },
          "metadata": {
            "tags": [],
            "needs_background": "light"
          }
        }
      ]
    },
    {
      "cell_type": "markdown",
      "metadata": {
        "id": "VznVd4LHzSk1"
      },
      "source": [
        "### 2.3 Estimate AutoSarima (1.5 pt.)\n",
        "[back to contents](#Contents)"
      ]
    },
    {
      "cell_type": "markdown",
      "metadata": {
        "id": "PGeGDYvlzSk1"
      },
      "source": [
        "For this part use ```AutoARIMA``` from ```sktime``` as well\n",
        "\n",
        "Estimate AutoSarima and name the result ```model_ASArima```\n",
        "\n",
        "The only difference from AutoArima is the seasonality period inside ```AutoARIMA```:\n",
        "\n",
        "```AutoARIMA(sp=...,suppress_warnings=True,start_p=2, max_p=4, start_q=2, max_q=4, d=1)```\n",
        "\n",
        "```model_ASArima.fit(...)```\n"
      ]
    },
    {
      "cell_type": "code",
      "metadata": {
        "colab": {
          "base_uri": "https://localhost:8080/"
        },
        "id": "JnOMfZYMzSk2",
        "outputId": "a667919e-1159-4347-86bc-05e3fa1c33a7"
      },
      "source": [
        "# code here (0.25 pt.)\n",
        "model_ASArima = AutoARIMA(sp=2,suppress_warnings=True,start_p=2, max_p=4, start_q=2, max_q=4, d=1)\n",
        "\n",
        "model_ASArima.fit(y_train)"
      ],
      "execution_count": 401,
      "outputs": [
        {
          "output_type": "execute_result",
          "data": {
            "text/plain": [
              "AutoARIMA(d=1, max_p=4, max_q=4, sp=2, suppress_warnings=True)"
            ]
          },
          "metadata": {
            "tags": []
          },
          "execution_count": 401
        }
      ]
    },
    {
      "cell_type": "markdown",
      "metadata": {
        "id": "bpZYc65XzSk2"
      },
      "source": [
        "What specification of ```ARIMA(p,d,q)(P,D,Q)s``` has been chosen as the best?\n",
        "\n",
        "```.summary()``` "
      ]
    },
    {
      "cell_type": "code",
      "metadata": {
        "colab": {
          "base_uri": "https://localhost:8080/",
          "height": 486
        },
        "id": "73co4niEzSk2",
        "outputId": "787be96d-d477-4005-d8da-28248e6f507e"
      },
      "source": [
        "# code here (0.25 pt.)\n",
        "model_ASArima.summary()"
      ],
      "execution_count": 402,
      "outputs": [
        {
          "output_type": "execute_result",
          "data": {
            "text/html": [
              "<table class=\"simpletable\">\n",
              "<caption>SARIMAX Results</caption>\n",
              "<tr>\n",
              "  <th>Dep. Variable:</th>                 <td>y</td>               <th>  No. Observations:  </th>   <td>40</td>   \n",
              "</tr>\n",
              "<tr>\n",
              "  <th>Model:</th>           <td>SARIMAX(0, 1, 1)x(2, 1, 1, 2)</td> <th>  Log Likelihood     </th> <td>-63.553</td>\n",
              "</tr>\n",
              "<tr>\n",
              "  <th>Date:</th>                  <td>Sun, 14 Mar 2021</td>        <th>  AIC                </th> <td>139.106</td>\n",
              "</tr>\n",
              "<tr>\n",
              "  <th>Time:</th>                      <td>16:03:40</td>            <th>  BIC                </th> <td>148.772</td>\n",
              "</tr>\n",
              "<tr>\n",
              "  <th>Sample:</th>                        <td>0</td>               <th>  HQIC               </th> <td>142.514</td>\n",
              "</tr>\n",
              "<tr>\n",
              "  <th></th>                             <td> - 40</td>             <th>                     </th>    <td> </td>   \n",
              "</tr>\n",
              "<tr>\n",
              "  <th>Covariance Type:</th>              <td>opg</td>              <th>                     </th>    <td> </td>   \n",
              "</tr>\n",
              "</table>\n",
              "<table class=\"simpletable\">\n",
              "<tr>\n",
              "      <td></td>         <th>coef</th>     <th>std err</th>      <th>z</th>      <th>P>|z|</th>  <th>[0.025</th>    <th>0.975]</th>  \n",
              "</tr>\n",
              "<tr>\n",
              "  <th>intercept</th> <td>    0.0059</td> <td>    0.034</td> <td>    0.170</td> <td> 0.865</td> <td>   -0.062</td> <td>    0.073</td>\n",
              "</tr>\n",
              "<tr>\n",
              "  <th>ma.L1</th>     <td>    0.6286</td> <td>    0.253</td> <td>    2.487</td> <td> 0.013</td> <td>    0.133</td> <td>    1.124</td>\n",
              "</tr>\n",
              "<tr>\n",
              "  <th>ar.S.L2</th>   <td>    0.0001</td> <td>    0.050</td> <td>    0.002</td> <td> 0.998</td> <td>   -0.097</td> <td>    0.098</td>\n",
              "</tr>\n",
              "<tr>\n",
              "  <th>ar.S.L4</th>   <td>    0.9837</td> <td>    0.044</td> <td>   22.481</td> <td> 0.000</td> <td>    0.898</td> <td>    1.069</td>\n",
              "</tr>\n",
              "<tr>\n",
              "  <th>ma.S.L2</th>   <td>   -0.8620</td> <td>    0.315</td> <td>   -2.735</td> <td> 0.006</td> <td>   -1.480</td> <td>   -0.244</td>\n",
              "</tr>\n",
              "<tr>\n",
              "  <th>sigma2</th>    <td>    1.2731</td> <td>    0.405</td> <td>    3.141</td> <td> 0.002</td> <td>    0.479</td> <td>    2.068</td>\n",
              "</tr>\n",
              "</table>\n",
              "<table class=\"simpletable\">\n",
              "<tr>\n",
              "  <th>Ljung-Box (L1) (Q):</th>     <td>0.16</td> <th>  Jarque-Bera (JB):  </th> <td>15.07</td>\n",
              "</tr>\n",
              "<tr>\n",
              "  <th>Prob(Q):</th>                <td>0.69</td> <th>  Prob(JB):          </th> <td>0.00</td> \n",
              "</tr>\n",
              "<tr>\n",
              "  <th>Heteroskedasticity (H):</th> <td>4.59</td> <th>  Skew:              </th> <td>-0.03</td>\n",
              "</tr>\n",
              "<tr>\n",
              "  <th>Prob(H) (two-sided):</th>    <td>0.01</td> <th>  Kurtosis:          </th> <td>6.13</td> \n",
              "</tr>\n",
              "</table><br/><br/>Warnings:<br/>[1] Covariance matrix calculated using the outer product of gradients (complex-step)."
            ],
            "text/plain": [
              "<class 'statsmodels.iolib.summary.Summary'>\n",
              "\"\"\"\n",
              "                                     SARIMAX Results                                     \n",
              "=========================================================================================\n",
              "Dep. Variable:                                 y   No. Observations:                   40\n",
              "Model:             SARIMAX(0, 1, 1)x(2, 1, 1, 2)   Log Likelihood                 -63.553\n",
              "Date:                           Sun, 14 Mar 2021   AIC                            139.106\n",
              "Time:                                   16:03:40   BIC                            148.772\n",
              "Sample:                                        0   HQIC                           142.514\n",
              "                                            - 40                                         \n",
              "Covariance Type:                             opg                                         \n",
              "==============================================================================\n",
              "                 coef    std err          z      P>|z|      [0.025      0.975]\n",
              "------------------------------------------------------------------------------\n",
              "intercept      0.0059      0.034      0.170      0.865      -0.062       0.073\n",
              "ma.L1          0.6286      0.253      2.487      0.013       0.133       1.124\n",
              "ar.S.L2        0.0001      0.050      0.002      0.998      -0.097       0.098\n",
              "ar.S.L4        0.9837      0.044     22.481      0.000       0.898       1.069\n",
              "ma.S.L2       -0.8620      0.315     -2.735      0.006      -1.480      -0.244\n",
              "sigma2         1.2731      0.405      3.141      0.002       0.479       2.068\n",
              "===================================================================================\n",
              "Ljung-Box (L1) (Q):                   0.16   Jarque-Bera (JB):                15.07\n",
              "Prob(Q):                              0.69   Prob(JB):                         0.00\n",
              "Heteroskedasticity (H):               4.59   Skew:                            -0.03\n",
              "Prob(H) (two-sided):                  0.01   Kurtosis:                         6.13\n",
              "===================================================================================\n",
              "\n",
              "Warnings:\n",
              "[1] Covariance matrix calculated using the outer product of gradients (complex-step).\n",
              "\"\"\""
            ]
          },
          "metadata": {
            "tags": []
          },
          "execution_count": 402
        }
      ]
    },
    {
      "cell_type": "code",
      "metadata": {
        "colab": {
          "base_uri": "https://localhost:8080/"
        },
        "id": "UYS_b7_QzSk2",
        "outputId": "06a24bcc-9428-456d-ee51-fa2e3a3331b9"
      },
      "source": [
        "# code here (0.5 pt.)\n",
        "print('ARIMA(1,1,0)(0,1,0)24')"
      ],
      "execution_count": 403,
      "outputs": [
        {
          "output_type": "stream",
          "text": [
            "ARIMA(1,1,0)(0,1,0)24\n"
          ],
          "name": "stdout"
        }
      ]
    },
    {
      "cell_type": "markdown",
      "metadata": {
        "id": "vsADPzPpzSk2"
      },
      "source": [
        "Make predictions for ```fh=np.arange(len(...)) + 1``` \n",
        "\n",
        "```model_ASArima.predict(fh=...)```"
      ]
    },
    {
      "cell_type": "code",
      "metadata": {
        "id": "ltYl8W77zSk3"
      },
      "source": [
        "# code here (0.25 pt.)\n",
        "y_pred1 = model_ASArima.predict(fh=np.arange(len(y_test)) + 1)"
      ],
      "execution_count": 404,
      "outputs": []
    },
    {
      "cell_type": "markdown",
      "metadata": {
        "id": "5YqHFfMjzSk3"
      },
      "source": [
        "Plot ```y_train, y_test, y_pred_AArima``` using ```plot_series(...)```and calculate SMAPE forecast quality metric:```smape_loss(...)```"
      ]
    },
    {
      "cell_type": "code",
      "metadata": {
        "colab": {
          "base_uri": "https://localhost:8080/",
          "height": 282
        },
        "id": "vj4zf9WPzSk3",
        "outputId": "b6642e1e-953d-4aa0-971e-47f139f5b61d"
      },
      "source": [
        "# code here (0.25 pt.)\n",
        "plot_series(y_train, y_test, y_pred1, labels=['train', 'test','pred'])\n",
        "smape_loss(y_test,y_pred1)"
      ],
      "execution_count": 405,
      "outputs": [
        {
          "output_type": "execute_result",
          "data": {
            "text/plain": [
              "0.07247603600667135"
            ]
          },
          "metadata": {
            "tags": []
          },
          "execution_count": 405
        },
        {
          "output_type": "display_data",
          "data": {
            "image/png": "[encoded data removed]",
            "text/plain": [
              "<Figure size 1152x288 with 1 Axes>"
            ]
          },
          "metadata": {
            "tags": [],
            "needs_background": "light"
          }
        }
      ]
    },
    {
      "cell_type": "markdown",
      "metadata": {
        "id": "2FrE7KJEzSk3"
      },
      "source": [
        "### 2.4 GridSearch (1 pt.)\n",
        "[back to contents](#Contents)"
      ]
    },
    {
      "cell_type": "markdown",
      "metadata": {
        "id": "hvC0LBjazSk3"
      },
      "source": [
        "Use GridSearch to choose the seasonality period, which gives the highest SMAPE \n",
        "\n",
        "```model = AutoARIMA(suppress_warnings=True,start_p=2, max_p=4, start_q=2, max_q=4, d=1)```\n",
        "\n",
        "Cross validation\n",
        "\n",
        "```CV= SlidingWindowSplitter(initial_window = 20, step_length = 4 , fh = 10)```\n",
        "\n",
        "```gscv = ForecastingGridSearchCV(model,cv=CV,param_grid={'sp':[2, 4, 8]})```\n",
        "\n",
        "Fit on the train set:\n",
        "\n",
        "gscv.fit()\n",
        "\n",
        "Return results\n",
        "\n",
        "df=pd.DataFrame(gscv. ...)\n",
        "\n",
        "Sort values in df by ```'rank_test_sMAPE'```\n",
        "\n",
        "```df.sort_values(by=['...'])```"
      ]
    },
    {
      "cell_type": "code",
      "metadata": {
        "colab": {
          "base_uri": "https://localhost:8080/",
          "height": 442
        },
        "id": "g9-xqSckzSk3",
        "outputId": "96fa49e0-6f0b-4a1e-a794-f3c12e576133"
      },
      "source": [
        "# code here (0.75 pt.)\n",
        "model = AutoARIMA(suppress_warnings=True,start_p=2, max_p=4, start_q=2, max_q=4, d=1)\n",
        "CV= SlidingWindowSplitter(initial_window = 20, step_length = 4 , fh = 10)\n",
        "\n",
        "gscv = ForecastingGridSearchCV(model,cv=CV,param_grid={'sp':[2, 4, 8,12,24]})\n",
        "\n",
        "gscv.fit(y_train)\n",
        "\n",
        "df=pd.DataFrame(gscv.cv_results_)\n",
        "df.sort_values(by=['rank_test_sMAPE'])"
      ],
      "execution_count": 406,
      "outputs": [
        {
          "output_type": "stream",
          "text": [
            "/usr/local/lib/python3.7/dist-packages/pmdarima/arima/utils.py:120: UserWarning: Appropriate D value may not have been reached; length of seasonally-differenced array (8) is shorter than m (12). Using D=1\n",
            "  % (len(x), m, D))\n",
            "/usr/local/lib/python3.7/dist-packages/statsmodels/tsa/statespace/sarimax.py:1890: RuntimeWarning: divide by zero encountered in reciprocal\n",
            "  return np.roots(self.polynomial_reduced_ar)**-1\n",
            "/usr/local/lib/python3.7/dist-packages/statsmodels/tsa/statespace/sarimax.py:1897: RuntimeWarning: divide by zero encountered in reciprocal\n",
            "  return np.roots(self.polynomial_reduced_ma)**-1\n",
            "/usr/local/lib/python3.7/dist-packages/statsmodels/tsa/statespace/sarimax.py:1890: RuntimeWarning: divide by zero encountered in reciprocal\n",
            "  return np.roots(self.polynomial_reduced_ar)**-1\n",
            "/usr/local/lib/python3.7/dist-packages/statsmodels/tsa/statespace/sarimax.py:1897: RuntimeWarning: divide by zero encountered in reciprocal\n",
            "  return np.roots(self.polynomial_reduced_ma)**-1\n",
            "/usr/local/lib/python3.7/dist-packages/sktime/forecasting/model_selection/_tune.py:144: FitFailedWarning: forecaster fit failed. The score on this train-test partition for these parameters will be set to nan. Details: \n",
            "ValueError: There are no more samples after a first-order seasonal differencing. See http://alkaline-ml.com/pmdarima/seasonal-differencing-issues.html for a more in-depth explanation and potential work-arounds.\n",
            "\n",
            "  FitFailedWarning,\n"
          ],
          "name": "stderr"
        },
        {
          "output_type": "execute_result",
          "data": {
            "text/html": [
              "<div>\n",
              "<style scoped>\n",
              "    .dataframe tbody tr th:only-of-type {\n",
              "        vertical-align: middle;\n",
              "    }\n",
              "\n",
              "    .dataframe tbody tr th {\n",
              "        vertical-align: top;\n",
              "    }\n",
              "\n",
              "    .dataframe thead th {\n",
              "        text-align: right;\n",
              "    }\n",
              "</style>\n",
              "<table border=\"1\" class=\"dataframe\">\n",
              "  <thead>\n",
              "    <tr style=\"text-align: right;\">\n",
              "      <th></th>\n",
              "      <th>mean_fit_time</th>\n",
              "      <th>mean_score_time</th>\n",
              "      <th>param_sp</th>\n",
              "      <th>params</th>\n",
              "      <th>mean_test_sMAPE</th>\n",
              "      <th>rank_test_sMAPE</th>\n",
              "    </tr>\n",
              "  </thead>\n",
              "  <tbody>\n",
              "    <tr>\n",
              "      <th>0</th>\n",
              "      <td>4.460956</td>\n",
              "      <td>0.046283</td>\n",
              "      <td>2</td>\n",
              "      <td>{'sp': 2}</td>\n",
              "      <td>0.292288</td>\n",
              "      <td>1</td>\n",
              "    </tr>\n",
              "    <tr>\n",
              "      <th>1</th>\n",
              "      <td>6.024399</td>\n",
              "      <td>0.033606</td>\n",
              "      <td>4</td>\n",
              "      <td>{'sp': 4}</td>\n",
              "      <td>0.346315</td>\n",
              "      <td>2</td>\n",
              "    </tr>\n",
              "    <tr>\n",
              "      <th>3</th>\n",
              "      <td>1.913370</td>\n",
              "      <td>0.033924</td>\n",
              "      <td>12</td>\n",
              "      <td>{'sp': 12}</td>\n",
              "      <td>0.394256</td>\n",
              "      <td>3</td>\n",
              "    </tr>\n",
              "    <tr>\n",
              "      <th>2</th>\n",
              "      <td>5.027531</td>\n",
              "      <td>0.033664</td>\n",
              "      <td>8</td>\n",
              "      <td>{'sp': 8}</td>\n",
              "      <td>0.413893</td>\n",
              "      <td>4</td>\n",
              "    </tr>\n",
              "    <tr>\n",
              "      <th>4</th>\n",
              "      <td>0.000772</td>\n",
              "      <td>0.000000</td>\n",
              "      <td>24</td>\n",
              "      <td>{'sp': 24}</td>\n",
              "      <td>NaN</td>\n",
              "      <td>5</td>\n",
              "    </tr>\n",
              "  </tbody>\n",
              "</table>\n",
              "</div>"
            ],
            "text/plain": [
              "   mean_fit_time  mean_score_time  ... mean_test_sMAPE rank_test_sMAPE\n",
              "0       4.460956         0.046283  ...        0.292288               1\n",
              "1       6.024399         0.033606  ...        0.346315               2\n",
              "3       1.913370         0.033924  ...        0.394256               3\n",
              "2       5.027531         0.033664  ...        0.413893               4\n",
              "4       0.000772         0.000000  ...             NaN               5\n",
              "\n",
              "[5 rows x 6 columns]"
            ]
          },
          "metadata": {
            "tags": []
          },
          "execution_count": 406
        }
      ]
    },
    {
      "cell_type": "markdown",
      "metadata": {
        "id": "9f9R-2MLzSk4"
      },
      "source": [
        "What seasonality period would you choose and why?"
      ]
    },
    {
      "cell_type": "code",
      "metadata": {
        "colab": {
          "base_uri": "https://localhost:8080/"
        },
        "id": "30RN3Ds-fMRJ",
        "outputId": "1779e87e-b74a-4dae-e81c-9cc17d81e0d0"
      },
      "source": [
        "gscv.get_fitted_params()"
      ],
      "execution_count": 410,
      "outputs": [
        {
          "output_type": "execute_result",
          "data": {
            "text/plain": [
              "{'ar.S.L2': 0.00011153523584129903,\n",
              " 'ar.S.L4': 0.9836793038636676,\n",
              " 'intercept': 0.005853876592751224,\n",
              " 'ma.L1': 0.6286295307420056,\n",
              " 'ma.S.L2': -0.861966685241821,\n",
              " 'sigma2': 1.2730847832298002}"
            ]
          },
          "metadata": {
            "tags": []
          },
          "execution_count": 410
        }
      ]
    },
    {
      "cell_type": "code",
      "metadata": {
        "id": "FOpf-p4izSk4",
        "colab": {
          "base_uri": "https://localhost:8080/"
        },
        "outputId": "1cb1b65e-b829-438b-d505-15216c5c72e1"
      },
      "source": [
        "# code here (0.25 pt.)\n",
        "print('2, cause it has best test estimate')"
      ],
      "execution_count": 407,
      "outputs": [
        {
          "output_type": "stream",
          "text": [
            "2, cause it has best test estimate\n"
          ],
          "name": "stdout"
        }
      ]
    },
    {
      "cell_type": "markdown",
      "metadata": {
        "id": "mC2cIjXQzSk4"
      },
      "source": [
        "### 2.5 Interval forecasts AutoArima (1.25 pt.)\n",
        "[back to contents](#Contents)"
      ]
    },
    {
      "cell_type": "markdown",
      "metadata": {
        "id": "1kASVRmxzSk4"
      },
      "source": [
        "Get 95% confidence intervals either for ```model_ASArima``` or for ```gscv```:\n",
        "\n",
        "For example:\n",
        "\n",
        "```y_pred_ASArima_best=model_ASArima.predict(fh=..., return_pred_int=True)```\n",
        "\n",
        "Mean forecast or point forecast\n",
        "\n",
        "mean=y_pred_ASArima_best[0]\n",
        "\n",
        "Lower and upper bounds\n",
        "\n",
        "upper_int=...\n",
        "\n",
        "lower_int=..."
      ]
    },
    {
      "cell_type": "code",
      "metadata": {
        "id": "99BUG-VizSk4"
      },
      "source": [
        "# code here (1 pt.)\n",
        "y_pred_ASArima_best=model_ASArima.predict(fh=np.arange(len(y_test)) + 1, return_pred_int=True, alpha = 0.05)\n",
        "\n",
        "mean=y_pred_ASArima_best[0]"
      ],
      "execution_count": 412,
      "outputs": []
    },
    {
      "cell_type": "markdown",
      "metadata": {
        "id": "FbjsySe5zSk4"
      },
      "source": [
        "Plot mean forecast, upper and lower intervals, test set:\n",
        "\n",
        "```plot_series()```"
      ]
    },
    {
      "cell_type": "code",
      "metadata": {
        "id": "333jxzPezSk4"
      },
      "source": [
        "# code here (0.25 pt.)\n"
      ],
      "execution_count": 424,
      "outputs": []
    },
    {
      "cell_type": "code",
      "metadata": {
        "id": "YIOTThR8zSk5"
      },
      "source": [
        ""
      ],
      "execution_count": 409,
      "outputs": []
    }
  ]
}